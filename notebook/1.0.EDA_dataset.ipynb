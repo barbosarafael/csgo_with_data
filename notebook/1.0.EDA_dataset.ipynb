{
 "cells": [
  {
   "cell_type": "markdown",
   "id": "1c223c5a-833b-41ea-9fb0-18ea999c65f4",
   "metadata": {},
   "source": [
    "# Notebook de exploração\n",
    "\n",
    "Link para os dados no Kaggle: https://www.kaggle.com/gamersclub/brazilian-csgo-plataform-dataset-by-gamers-club\n",
    "\n",
    "A ideia desse notebook é explorar o que temos nos dados, verificamos como podemos contar algumas histórias com os dados e, provavelmente, gerará um post no Medium. Basta esperar :) "
   ]
  },
  {
   "cell_type": "markdown",
   "id": "ca2049bf-f828-4e5e-987e-f6754094c2a5",
   "metadata": {},
   "source": [
    "## 0. Pacotes úteis inicialmente"
   ]
  },
  {
   "cell_type": "code",
   "execution_count": 1,
   "id": "55dbe851-338c-4613-aaf0-06a046aba814",
   "metadata": {},
   "outputs": [],
   "source": [
    "import pandas as pd\n",
    "import numpy as np\n",
    "import os\n",
    "import seaborn as sns\n",
    "import matplotlib.pyplot as plt"
   ]
  },
  {
   "cell_type": "markdown",
   "id": "522ae87f-6897-455b-a330-4fbc7a4957da",
   "metadata": {},
   "source": [
    "---\n",
    "\n",
    "Setando os diretórios que iremos trazer e exportar os dados:"
   ]
  },
  {
   "cell_type": "code",
   "execution_count": 2,
   "id": "995520b1-c6a0-4bd3-a1de-96c17375aa56",
   "metadata": {},
   "outputs": [
    {
     "name": "stdout",
     "output_type": "stream",
     "text": [
      "tb_players.csv\n",
      "tb_medalha.csv\n",
      "tb_lobby_stats_player.csv\n",
      "tb_players_medalha.csv\n"
     ]
    }
   ],
   "source": [
    "data_path = '../data/'\n",
    "output_path = '../output/'\n",
    "\n",
    "dirs = os.listdir(data_path)\n",
    "\n",
    "for file in dirs:\n",
    "    print(file)"
   ]
  },
  {
   "cell_type": "markdown",
   "id": "8b331a28-7572-4b44-8065-e7d6cf140f55",
   "metadata": {},
   "source": [
    "---\n",
    "\n",
    "Verificamos que os dados que temos são os acima. Agora vamos baixar um por um. Como a preguiça de escrever um loop nesse momento é maior que tudo, vamos manualmente baixar de  um por um."
   ]
  },
  {
   "cell_type": "markdown",
   "id": "cc26c930-025e-4877-a916-12eb5450d755",
   "metadata": {},
   "source": [
    "## 1. Baixando os dados"
   ]
  },
  {
   "cell_type": "code",
   "execution_count": 3,
   "id": "fa94f7e5-6677-4d4a-9dfb-8e19c32b54ae",
   "metadata": {},
   "outputs": [],
   "source": [
    "players = pd.read_csv(filepath_or_buffer = data_path + 'tb_players.csv')\n",
    "medalha = pd.read_csv(filepath_or_buffer = data_path + 'tb_medalha.csv')\n",
    "stats_players = pd.read_csv(filepath_or_buffer = data_path + 'tb_lobby_stats_player.csv')\n",
    "players_medalha = pd.read_csv(filepath_or_buffer = data_path + 'tb_players_medalha.csv')"
   ]
  },
  {
   "cell_type": "markdown",
   "id": "28c89650-81d7-494e-a817-d96f38d16e5e",
   "metadata": {},
   "source": [
    "## 2. Explorando cada um dos datasets"
   ]
  },
  {
   "cell_type": "markdown",
   "id": "1bec71de-a011-483b-a400-1667d955539f",
   "metadata": {
    "tags": []
   },
   "source": [
    "### 2.1. Players\n",
    "\n",
    "Dados cadastrais dos jogadores. Do kaggle temos os seguintes significados para essas variáveis: \n",
    "\n",
    "1. idPlayer: ID\n",
    "2. flFacebook: Possui vínculo da conta da GC com o Facebook (0 ou 1)\n",
    "3. flTwitter: Possui vínculo da conta da GC com o Twitter (0 ou 1)\n",
    "4. flTwitter: Possui vínculo da conta da GC com a Twitch (0 ou 1)\n",
    "5. descCountry: País de origem do jogador\n",
    "6. dtBirth: Data de aniversário\n",
    "7. dtRegistration: Data de registro na plataforma da GC"
   ]
  },
  {
   "cell_type": "code",
   "execution_count": 4,
   "id": "97c32c81-9667-4fea-88bb-27a2d07eabc8",
   "metadata": {},
   "outputs": [
    {
     "data": {
      "text/html": [
       "<div>\n",
       "<style scoped>\n",
       "    .dataframe tbody tr th:only-of-type {\n",
       "        vertical-align: middle;\n",
       "    }\n",
       "\n",
       "    .dataframe tbody tr th {\n",
       "        vertical-align: top;\n",
       "    }\n",
       "\n",
       "    .dataframe thead th {\n",
       "        text-align: right;\n",
       "    }\n",
       "</style>\n",
       "<table border=\"1\" class=\"dataframe\">\n",
       "  <thead>\n",
       "    <tr style=\"text-align: right;\">\n",
       "      <th></th>\n",
       "      <th>idPlayer</th>\n",
       "      <th>flFacebook</th>\n",
       "      <th>flTwitter</th>\n",
       "      <th>flTwitch</th>\n",
       "      <th>descCountry</th>\n",
       "      <th>dtBirth</th>\n",
       "      <th>dtRegistration</th>\n",
       "    </tr>\n",
       "  </thead>\n",
       "  <tbody>\n",
       "    <tr>\n",
       "      <th>0</th>\n",
       "      <td>1</td>\n",
       "      <td>0</td>\n",
       "      <td>0</td>\n",
       "      <td>0</td>\n",
       "      <td>cl</td>\n",
       "      <td>NaN</td>\n",
       "      <td>2021-03-19 21:31:39</td>\n",
       "    </tr>\n",
       "    <tr>\n",
       "      <th>1</th>\n",
       "      <td>2</td>\n",
       "      <td>0</td>\n",
       "      <td>0</td>\n",
       "      <td>0</td>\n",
       "      <td>br</td>\n",
       "      <td>NaN</td>\n",
       "      <td>2020-05-06 19:28:29</td>\n",
       "    </tr>\n",
       "    <tr>\n",
       "      <th>2</th>\n",
       "      <td>3</td>\n",
       "      <td>0</td>\n",
       "      <td>0</td>\n",
       "      <td>0</td>\n",
       "      <td>br</td>\n",
       "      <td>NaN</td>\n",
       "      <td>2020-01-28 13:00:38</td>\n",
       "    </tr>\n",
       "    <tr>\n",
       "      <th>3</th>\n",
       "      <td>4</td>\n",
       "      <td>0</td>\n",
       "      <td>0</td>\n",
       "      <td>0</td>\n",
       "      <td>br</td>\n",
       "      <td>NaN</td>\n",
       "      <td>2017-05-31 16:13:51</td>\n",
       "    </tr>\n",
       "    <tr>\n",
       "      <th>4</th>\n",
       "      <td>5</td>\n",
       "      <td>0</td>\n",
       "      <td>0</td>\n",
       "      <td>0</td>\n",
       "      <td>ar</td>\n",
       "      <td>NaN</td>\n",
       "      <td>2021-02-08 11:57:21</td>\n",
       "    </tr>\n",
       "  </tbody>\n",
       "</table>\n",
       "</div>"
      ],
      "text/plain": [
       "   idPlayer  flFacebook  flTwitter  flTwitch descCountry dtBirth  \\\n",
       "0         1           0          0         0          cl     NaN   \n",
       "1         2           0          0         0          br     NaN   \n",
       "2         3           0          0         0          br     NaN   \n",
       "3         4           0          0         0          br     NaN   \n",
       "4         5           0          0         0          ar     NaN   \n",
       "\n",
       "        dtRegistration  \n",
       "0  2021-03-19 21:31:39  \n",
       "1  2020-05-06 19:28:29  \n",
       "2  2020-01-28 13:00:38  \n",
       "3  2017-05-31 16:13:51  \n",
       "4  2021-02-08 11:57:21  "
      ]
     },
     "execution_count": 4,
     "metadata": {},
     "output_type": "execute_result"
    }
   ],
   "source": [
    "players.head()"
   ]
  },
  {
   "cell_type": "code",
   "execution_count": 5,
   "id": "975d1d78-5459-4c15-a254-2ef95a14ae72",
   "metadata": {},
   "outputs": [
    {
     "name": "stdout",
     "output_type": "stream",
     "text": [
      "<class 'pandas.core.frame.DataFrame'>\n",
      "RangeIndex: 2716 entries, 0 to 2715\n",
      "Data columns (total 7 columns):\n",
      " #   Column          Non-Null Count  Dtype \n",
      "---  ------          --------------  ----- \n",
      " 0   idPlayer        2716 non-null   int64 \n",
      " 1   flFacebook      2716 non-null   int64 \n",
      " 2   flTwitter       2716 non-null   int64 \n",
      " 3   flTwitch        2716 non-null   int64 \n",
      " 4   descCountry     2716 non-null   object\n",
      " 5   dtBirth         2008 non-null   object\n",
      " 6   dtRegistration  2716 non-null   object\n",
      "dtypes: int64(4), object(3)\n",
      "memory usage: 148.7+ KB\n"
     ]
    }
   ],
   "source": [
    "players.info()"
   ]
  },
  {
   "cell_type": "markdown",
   "id": "9eed1c0d-d003-4389-811c-4564c9bfc7df",
   "metadata": {},
   "source": [
    "--- \n",
    "\n",
    "Vamos criar duas funções para mudar o tipo das variáveis `descCountry` (object -> string) e `dtBirth` e `dtRegistration` (object -> Datetime)"
   ]
  },
  {
   "cell_type": "code",
   "execution_count": 6,
   "id": "ac025a33-5317-446c-af63-a18b7c007cc6",
   "metadata": {},
   "outputs": [],
   "source": [
    "def changeColumnTypeToString(df, cols):\n",
    "    \n",
    "    df1 = df.copy()\n",
    "    \n",
    "    df1[cols] = df1[cols].astype('str')\n",
    "    \n",
    "    return df1\n",
    "\n",
    "def changeColumnTypeToDatetime(df, cols):\n",
    "    \n",
    "    df1 = df.copy()\n",
    "    \n",
    "    df1[cols] = df1[cols].astype('datetime64[ns]')\n",
    "    \n",
    "    return df1"
   ]
  },
  {
   "cell_type": "code",
   "execution_count": 7,
   "id": "81fc0cd9-9e4b-43a1-a3b1-51467f5f8142",
   "metadata": {},
   "outputs": [
    {
     "name": "stdout",
     "output_type": "stream",
     "text": [
      "<class 'pandas.core.frame.DataFrame'>\n",
      "RangeIndex: 2716 entries, 0 to 2715\n",
      "Data columns (total 7 columns):\n",
      " #   Column          Non-Null Count  Dtype         \n",
      "---  ------          --------------  -----         \n",
      " 0   idPlayer        2716 non-null   int64         \n",
      " 1   flFacebook      2716 non-null   int64         \n",
      " 2   flTwitter       2716 non-null   int64         \n",
      " 3   flTwitch        2716 non-null   int64         \n",
      " 4   descCountry     2716 non-null   object        \n",
      " 5   dtBirth         2008 non-null   datetime64[ns]\n",
      " 6   dtRegistration  2716 non-null   datetime64[ns]\n",
      "dtypes: datetime64[ns](2), int64(4), object(1)\n",
      "memory usage: 148.7+ KB\n"
     ]
    }
   ],
   "source": [
    "players1 = players\\\n",
    ".pipe(changeColumnTypeToString, cols = 'descCountry')\\\n",
    ".pipe(changeColumnTypeToDatetime, cols = ['dtBirth', 'dtRegistration'])\n",
    "\n",
    "players1.info()"
   ]
  },
  {
   "cell_type": "markdown",
   "id": "67ee3713-cbf2-497a-8fa0-c61fff3aa6d2",
   "metadata": {},
   "source": [
    "---\n",
    "\n",
    "Agora que temos tipos de colunas um pouco mais adequadas para as futuras análises, vamos fazer alguns gráficos exploratórios:"
   ]
  },
  {
   "cell_type": "code",
   "execution_count": 19,
   "id": "f11851f2-8f4c-4d09-b390-8670515e9439",
   "metadata": {},
   "outputs": [],
   "source": [
    "categorical_cols = ['flFacebook', 'flTwitter', 'flTwitch', 'descCountry']\n",
    "\n",
    "# def plotCountVariables(df, cols):\n",
    "    \n",
    "#     plt.figure(figsize = (18, 4))\n",
    "\n",
    "#     for i, col in enumerate(cols):\n",
    "#         ax = plt.subplot(1, len(col), i+1)\n",
    "#         sns.countplot(data = players1, x = col, ax = ax)\n",
    "#         ax.set_ylabel('')\n",
    "#         ax.set_xlabel('')\n",
    "\n",
    "# _ = plotCountVariables(df = players1, cols = categorical_cols)"
   ]
  },
  {
   "cell_type": "code",
   "execution_count": 34,
   "id": "c11fdc62-15b7-4593-8e83-5c6505ed6259",
   "metadata": {},
   "outputs": [
    {
     "data": {
      "image/png": "[encoded data removed]",
      "text/plain": [
       "<Figure size 1296x360 with 4 Axes>"
      ]
     },
     "metadata": {
      "needs_background": "light"
     },
     "output_type": "display_data"
    }
   ],
   "source": [
    "plt.figure(figsize=(18,5))\n",
    "\n",
    "for i, col in enumerate(categorical_cols):\n",
    "    ax = plt.subplot(1, len(categorical_cols), i+1)\n",
    "    sns.countplot(data = players1, x = col, ax = ax, order = players[col].value_counts(ascending = False).index)\n",
    "    ax.set_title(f'Contagem de {col}')\n",
    "    ax.set_ylabel('')\n",
    "    ax.set_xlabel('')\n",
    "    ax.bar_label(container = ax.containers[0])"
   ]
  },
  {
   "cell_type": "markdown",
   "id": "f798df51-bf3f-472e-bbfb-a21ca33d22dd",
   "metadata": {},
   "source": [
    "--- \n",
    "\n",
    "Pode-se notar que a grande maioria dos Players não estão conectados às outras plataformas, Facebook, Twitter e/ou Twitch. \n",
    "\n",
    "Quando olhamos os países a quais os Players pertencem, majoritariamente temos o Brasil como sendo o principal, logo em seguida temos a Argentina e o Chile. "
   ]
  }
 ],
 "metadata": {
  "kernelspec": {
   "display_name": "Python 3 (ipykernel)",
   "language": "python",
   "name": "python3"
  },
  "language_info": {
   "codemirror_mode": {
    "name": "ipython",
    "version": 3
   },
   "file_extension": ".py",
   "mimetype": "text/x-python",
   "name": "python",
   "nbconvert_exporter": "python",
   "pygments_lexer": "ipython3",
   "version": "3.8.10"
  }
 },
 "nbformat": 4,
 "nbformat_minor": 5
}
